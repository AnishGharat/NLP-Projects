{
 "cells": [
  {
   "cell_type": "code",
   "execution_count": 1,
   "id": "87715f39",
   "metadata": {},
   "outputs": [],
   "source": [
    "import re\n",
    "import pandas as pd\n",
    "import datetime"
   ]
  },
  {
   "cell_type": "code",
   "execution_count": 2,
   "id": "b5bcf249",
   "metadata": {},
   "outputs": [
    {
     "data": {
      "text/html": [
       "<div>\n",
       "<style scoped>\n",
       "    .dataframe tbody tr th:only-of-type {\n",
       "        vertical-align: middle;\n",
       "    }\n",
       "\n",
       "    .dataframe tbody tr th {\n",
       "        vertical-align: top;\n",
       "    }\n",
       "\n",
       "    .dataframe thead th {\n",
       "        text-align: right;\n",
       "    }\n",
       "</style>\n",
       "<table border=\"1\" class=\"dataframe\">\n",
       "  <thead>\n",
       "    <tr style=\"text-align: right;\">\n",
       "      <th></th>\n",
       "      <th>Input</th>\n",
       "      <th>Expected Output</th>\n",
       "    </tr>\n",
       "  </thead>\n",
       "  <tbody>\n",
       "    <tr>\n",
       "      <th>0</th>\n",
       "      <td>The event will take place on March 5, 2023.</td>\n",
       "      <td>05/03/2023</td>\n",
       "    </tr>\n",
       "    <tr>\n",
       "      <th>1</th>\n",
       "      <td>Her birthday is on 07/08/1990.</td>\n",
       "      <td>07/08/1990</td>\n",
       "    </tr>\n",
       "    <tr>\n",
       "      <th>2</th>\n",
       "      <td>The deadline is 2022-12-31.</td>\n",
       "      <td>31/12/2022</td>\n",
       "    </tr>\n",
       "    <tr>\n",
       "      <th>3</th>\n",
       "      <td>We met on 1st of January 2000.</td>\n",
       "      <td>01/01/2000</td>\n",
       "    </tr>\n",
       "    <tr>\n",
       "      <th>4</th>\n",
       "      <td>The concert is scheduled for 15th September, 2...</td>\n",
       "      <td>15/09/2021</td>\n",
       "    </tr>\n",
       "    <tr>\n",
       "      <th>...</th>\n",
       "      <td>...</td>\n",
       "      <td>...</td>\n",
       "    </tr>\n",
       "    <tr>\n",
       "      <th>95</th>\n",
       "      <td>We celebrate Independence Day on 2023-07-04, a...</td>\n",
       "      <td>04/07/2023</td>\n",
       "    </tr>\n",
       "    <tr>\n",
       "      <th>96</th>\n",
       "      <td>The final date for submission is 30th November...</td>\n",
       "      <td>30/11/2022</td>\n",
       "    </tr>\n",
       "    <tr>\n",
       "      <th>97</th>\n",
       "      <td>The annual conference is on 15th October 2023,...</td>\n",
       "      <td>15/10/2023</td>\n",
       "    </tr>\n",
       "    <tr>\n",
       "      <th>98</th>\n",
       "      <td>His birthdate, noted as 1990-05-20, is in the ...</td>\n",
       "      <td>20/05/1990</td>\n",
       "    </tr>\n",
       "    <tr>\n",
       "      <th>99</th>\n",
       "      <td>The festival will be celebrated on 12th August...</td>\n",
       "      <td>12/08/2024</td>\n",
       "    </tr>\n",
       "  </tbody>\n",
       "</table>\n",
       "<p>100 rows × 2 columns</p>\n",
       "</div>"
      ],
      "text/plain": [
       "                                                Input Expected Output\n",
       "0         The event will take place on March 5, 2023.      05/03/2023\n",
       "1                      Her birthday is on 07/08/1990.      07/08/1990\n",
       "2                         The deadline is 2022-12-31.      31/12/2022\n",
       "3                      We met on 1st of January 2000.      01/01/2000\n",
       "4   The concert is scheduled for 15th September, 2...      15/09/2021\n",
       "..                                                ...             ...\n",
       "95  We celebrate Independence Day on 2023-07-04, a...      04/07/2023\n",
       "96  The final date for submission is 30th November...      30/11/2022\n",
       "97  The annual conference is on 15th October 2023,...      15/10/2023\n",
       "98  His birthdate, noted as 1990-05-20, is in the ...      20/05/1990\n",
       "99  The festival will be celebrated on 12th August...      12/08/2024\n",
       "\n",
       "[100 rows x 2 columns]"
      ]
     },
     "execution_count": 2,
     "metadata": {},
     "output_type": "execute_result"
    }
   ],
   "source": [
    "df = pd.read_csv('date_parser_testcases.csv')\n",
    "df"
   ]
  },
  {
   "cell_type": "code",
   "execution_count": 9,
   "id": "b8ddb752",
   "metadata": {},
   "outputs": [],
   "source": [
    "def date_extractor(text):\n",
    "    text = text.lower()\n",
    "    months = r'(january|february|march|april|may|june|july|august|september|october|november|december)'\n",
    "    # Patterns for different date formats\n",
    "    day_month_year = rf'(\\b\\d{{1,2}})(?:st|nd|rd|th)?(?:\\s*of\\s*)?\\s*{months}\\s*[,\\s]*\\b(\\d{{4}})'\n",
    "    month_day_year = rf'{months}\\s*(\\b\\d{{1,2}})(?:st|nd|rd|th)?\\s*[,\\s]*\\b(\\d{{4}})'\n",
    "    year_month_day = r'(\\d{4})[-/.](\\d{1,2})[-/.](\\d{1,2})'\n",
    "    symbol = r'(\\d{1,2})[-/.](\\d{1,2})[-/.](\\d{4})'\n",
    "    short_year_format = r'(\\d{1,2})[-/.](\\d{1,2})[-/.](\\d{2})'\n",
    "    months_map = {'january': '01', 'february': '02', 'march': '03', 'april': '04','may': '05', 'june': '06', 'july': '07', 'august': '08','september': '09', 'october': '10', 'november': '11', 'december': '12',\n",
    "                         'jan': '01', 'feb': '02', 'mar': '03', 'apr': '04','jun': '06', 'jul': '07', 'aug': '08', 'sep': '09','oct': '10', 'nov': '11', 'dec': '12'}\n",
    "    match = re.search(day_month_year, text)\n",
    "    if match:\n",
    "        day, month, year = match.groups()\n",
    "        return f\"{int(day):02d}/{months_map[month]}/{year}\"\n",
    " \n",
    "    match = re.search(month_day_year, text)\n",
    "    if match:\n",
    "        month, day, year = match.groups()\n",
    "        return f\"{int(day):02d}/{months_map[month]}/{year}\"\n",
    "    match = re.search(year_month_day, text)\n",
    "    if match:\n",
    "        year, month, day = match.groups()\n",
    "        return f\"{int(day):02d}/{int(month):02d}/{year}\"\n",
    " \n",
    " \n",
    "    match = re.search(symbol, text)\n",
    "    if match:\n",
    "        day, month, year = match.groups()\n",
    "        return f\"{int(day):02d}/{int(month):02d}/{year}\"\n",
    "    return None  # If no date format matched"
   ]
  },
  {
   "cell_type": "code",
   "execution_count": 10,
   "id": "5bc95c6c",
   "metadata": {},
   "outputs": [
    {
     "name": "stdout",
     "output_type": "stream",
     "text": [
      "Accuracy: 82.00%\n"
     ]
    }
   ],
   "source": [
    "correct_count = 0\n",
    "total_count = len(df)\n",
    " \n",
    "# Process each row\n",
    "for _, row in df.iterrows():\n",
    "    text = row['Input'] \n",
    "    expected_date = row['Expected Output']  \n",
    "    pred_date = date_extractor(text)\n",
    " \n",
    "    if pred_date == expected_date:\n",
    "        correct_count += 1\n",
    " \n",
    "# Calculate the percentage of correctly derived dates\n",
    "accuracy = (correct_count / total_count) * 100\n",
    "print(f\"Accuracy: {accuracy:.2f}%\")"
   ]
  },
  {
   "cell_type": "code",
   "execution_count": null,
   "id": "1a84302e",
   "metadata": {},
   "outputs": [],
   "source": []
  }
 ],
 "metadata": {
  "kernelspec": {
   "display_name": "Python 3 (ipykernel)",
   "language": "python",
   "name": "python3"
  },
  "language_info": {
   "codemirror_mode": {
    "name": "ipython",
    "version": 3
   },
   "file_extension": ".py",
   "mimetype": "text/x-python",
   "name": "python",
   "nbconvert_exporter": "python",
   "pygments_lexer": "ipython3",
   "version": "3.9.13"
  }
 },
 "nbformat": 4,
 "nbformat_minor": 5
}
