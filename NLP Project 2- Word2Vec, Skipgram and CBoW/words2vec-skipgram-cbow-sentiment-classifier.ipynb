{
 "cells": [
  {
   "cell_type": "code",
   "execution_count": 2,
   "id": "0ca437b4",
   "metadata": {},
   "outputs": [],
   "source": [
    "# Part 1: Basic use of Words2Vec\n",
    "# Part 2: Sentiment Analysis using Words2Vec, Skipgram and CBoW models"
   ]
  },
  {
   "cell_type": "code",
   "execution_count": null,
   "id": "26832a5d",
   "metadata": {},
   "outputs": [],
   "source": [
    "# Dataset used in part 2: https://www.kaggle.com/datasets/lakshmi25npathi/imdb-dataset-of-50k-movie-reviews/data"
   ]
  },
  {
   "cell_type": "code",
   "execution_count": null,
   "id": "9d689226",
   "metadata": {},
   "outputs": [],
   "source": [
    "#pip install gensim"
   ]
  },
  {
   "cell_type": "code",
   "execution_count": 1,
   "id": "1bdebcce",
   "metadata": {},
   "outputs": [],
   "source": [
    "import numpy as np\n",
    "import pandas as pd\n",
    "import matplotlib.pyplot as plt\n",
    "import seaborn as sns\n",
    "import gensim.downloader as api\n",
    "import re\n",
    "import nltk\n",
    "from nltk.corpus import stopwords\n",
    "from nltk.tokenize import word_tokenize\n",
    "from gensim.models import Word2Vec\n",
    "from sklearn.model_selection import train_test_split\n",
    "from sklearn.linear_model import LogisticRegression\n",
    "from sklearn.metrics import classification_report"
   ]
  },
  {
   "cell_type": "code",
   "execution_count": 2,
   "id": "2b9eca6f",
   "metadata": {},
   "outputs": [],
   "source": [
    "# Load the pretrained Word2Vec model\n",
    "model = api.load(\"word2vec-google-news-300\")"
   ]
  },
  {
   "cell_type": "markdown",
   "id": "b4c3e81f",
   "metadata": {},
   "source": [
    "## Part 1"
   ]
  },
  {
   "cell_type": "markdown",
   "id": "6e791fc7",
   "metadata": {},
   "source": [
    "### Similar words from Words2Vec"
   ]
  },
  {
   "cell_type": "code",
   "execution_count": 3,
   "id": "e7634edd",
   "metadata": {},
   "outputs": [
    {
     "name": "stdout",
     "output_type": "stream",
     "text": [
      "Similar words to 'king':\n",
      "  kings: 0.7138\n",
      "  queen: 0.6511\n",
      "  monarch: 0.6413\n",
      "  crown_prince: 0.6204\n",
      "  prince: 0.6160\n",
      "\n",
      "Similar words to 'lion':\n",
      "  lions: 0.6357\n",
      "  tiger: 0.5121\n",
      "  elephant: 0.5120\n",
      "  gorilla: 0.4892\n",
      "  hyena: 0.4852\n",
      "\n",
      "Similar words to 'man':\n",
      "  woman: 0.7664\n",
      "  boy: 0.6825\n",
      "  teenager: 0.6587\n",
      "  teenage_girl: 0.6148\n",
      "  girl: 0.5922\n",
      "\n",
      "Similar words to 'woman':\n",
      "  man: 0.7664\n",
      "  girl: 0.7495\n",
      "  teenage_girl: 0.7337\n",
      "  teenager: 0.6317\n",
      "  lady: 0.6289\n",
      "\n",
      "Similar words to 'india':\n",
      "  indian: 0.6967\n",
      "  usa: 0.6836\n",
      "  pakistan: 0.6815\n",
      "  chennai: 0.6676\n",
      "  america: 0.6589\n",
      "\n"
     ]
    }
   ],
   "source": [
    "# Define a list of words\n",
    "words = [\"king\", \"lion\", \"man\", \"woman\", \"india\"]\n",
    "\n",
    "# Find and print similar words for each of the given words\n",
    "for word in words:\n",
    "    print(f\"Similar words to '{word}':\")\n",
    "    similar_words = model.most_similar(word, topn=5)\n",
    "    for similar_word, similarity in similar_words:\n",
    "        print(f\"  {similar_word}: {similarity:.4f}\")\n",
    "    print()"
   ]
  },
  {
   "cell_type": "markdown",
   "id": "30bc692e",
   "metadata": {},
   "source": [
    "### Finding words based on relational analogies"
   ]
  },
  {
   "cell_type": "code",
   "execution_count": 4,
   "id": "348ed230",
   "metadata": {},
   "outputs": [
    {
     "name": "stdout",
     "output_type": "stream",
     "text": [
      "man is to woman as brother is to: sister\n",
      "similarity: 0.8103\n",
      "\n",
      "king is to prince as queen is to: princess\n",
      "similarity: 0.7093\n",
      "\n",
      "foot is to feet as tooth is to: teeth\n",
      "similarity: 0.5431\n",
      "\n"
     ]
    }
   ],
   "source": [
    "analogies = [\n",
    "    (\"man\", \"woman\", \"brother\"),  # Expected to be similar to \"sister\"\n",
    "    (\"king\", \"prince\", \"queen\"),  # Expected to be similar to \"palace\"\n",
    "    (\"foot\", \"feet\", \"tooth\")     # Expected to be similar to \"teeth\"\n",
    "]\n",
    "\n",
    "for a, b, c in analogies:\n",
    "    try:\n",
    "        result = model.most_similar(positive=[b, c], negative=[a], topn=1)\n",
    "        print(f\"{a} is to {b} as {c} is to: {result[0][0]}\")\n",
    "        print(f\"similarity: {result[0][1]:.4f}\")\n",
    "    except KeyError as e:\n",
    "        print(f\"Error: {e}\")\n",
    "    print()"
   ]
  },
  {
   "cell_type": "markdown",
   "id": "cef9605b",
   "metadata": {},
   "source": [
    "## Part 2"
   ]
  },
  {
   "cell_type": "code",
   "execution_count": 5,
   "id": "2efd5421",
   "metadata": {},
   "outputs": [
    {
     "data": {
      "text/html": [
       "<div>\n",
       "<style scoped>\n",
       "    .dataframe tbody tr th:only-of-type {\n",
       "        vertical-align: middle;\n",
       "    }\n",
       "\n",
       "    .dataframe tbody tr th {\n",
       "        vertical-align: top;\n",
       "    }\n",
       "\n",
       "    .dataframe thead th {\n",
       "        text-align: right;\n",
       "    }\n",
       "</style>\n",
       "<table border=\"1\" class=\"dataframe\">\n",
       "  <thead>\n",
       "    <tr style=\"text-align: right;\">\n",
       "      <th></th>\n",
       "      <th>review</th>\n",
       "      <th>sentiment</th>\n",
       "    </tr>\n",
       "  </thead>\n",
       "  <tbody>\n",
       "    <tr>\n",
       "      <th>0</th>\n",
       "      <td>One of the other reviewers has mentioned that ...</td>\n",
       "      <td>positive</td>\n",
       "    </tr>\n",
       "    <tr>\n",
       "      <th>1</th>\n",
       "      <td>A wonderful little production. &lt;br /&gt;&lt;br /&gt;The...</td>\n",
       "      <td>positive</td>\n",
       "    </tr>\n",
       "    <tr>\n",
       "      <th>2</th>\n",
       "      <td>I thought this was a wonderful way to spend ti...</td>\n",
       "      <td>positive</td>\n",
       "    </tr>\n",
       "    <tr>\n",
       "      <th>3</th>\n",
       "      <td>Basically there's a family where a little boy ...</td>\n",
       "      <td>negative</td>\n",
       "    </tr>\n",
       "    <tr>\n",
       "      <th>4</th>\n",
       "      <td>Petter Mattei's \"Love in the Time of Money\" is...</td>\n",
       "      <td>positive</td>\n",
       "    </tr>\n",
       "  </tbody>\n",
       "</table>\n",
       "</div>"
      ],
      "text/plain": [
       "                                              review sentiment\n",
       "0  One of the other reviewers has mentioned that ...  positive\n",
       "1  A wonderful little production. <br /><br />The...  positive\n",
       "2  I thought this was a wonderful way to spend ti...  positive\n",
       "3  Basically there's a family where a little boy ...  negative\n",
       "4  Petter Mattei's \"Love in the Time of Money\" is...  positive"
      ]
     },
     "execution_count": 5,
     "metadata": {},
     "output_type": "execute_result"
    }
   ],
   "source": [
    "df = pd.read_csv(\"IMDB Dataset.csv\")\n",
    "df.head()"
   ]
  },
  {
   "cell_type": "code",
   "execution_count": 6,
   "id": "097eb984",
   "metadata": {},
   "outputs": [
    {
     "name": "stdout",
     "output_type": "stream",
     "text": [
      "<class 'pandas.core.frame.DataFrame'>\n",
      "RangeIndex: 50000 entries, 0 to 49999\n",
      "Data columns (total 2 columns):\n",
      " #   Column     Non-Null Count  Dtype \n",
      "---  ------     --------------  ----- \n",
      " 0   review     50000 non-null  object\n",
      " 1   sentiment  50000 non-null  object\n",
      "dtypes: object(2)\n",
      "memory usage: 781.4+ KB\n"
     ]
    }
   ],
   "source": [
    "df.info()"
   ]
  },
  {
   "cell_type": "code",
   "execution_count": 7,
   "id": "cb42da4b",
   "metadata": {},
   "outputs": [
    {
     "data": {
      "text/plain": [
       "positive    25000\n",
       "negative    25000\n",
       "Name: sentiment, dtype: int64"
      ]
     },
     "execution_count": 7,
     "metadata": {},
     "output_type": "execute_result"
    }
   ],
   "source": [
    "df['sentiment'].value_counts()"
   ]
  },
  {
   "cell_type": "code",
   "execution_count": 8,
   "id": "9c5ec97e",
   "metadata": {},
   "outputs": [
    {
     "data": {
      "image/png": "[encoded data removed]",
      "text/plain": [
       "<Figure size 1000x600 with 1 Axes>"
      ]
     },
     "metadata": {},
     "output_type": "display_data"
    }
   ],
   "source": [
    "# Plot the distribution of review lengths\n",
    "df['review_length'] = df['review'].apply(len)\n",
    "plt.figure(figsize=(10, 6))\n",
    "sns.histplot(df['review_length'], bins=50, kde=True)\n",
    "plt.title('Distribution of Review Lengths')\n",
    "plt.xlabel('Review Length')\n",
    "plt.ylabel('Frequency')\n",
    "plt.show()"
   ]
  },
  {
   "cell_type": "code",
   "execution_count": 9,
   "id": "e6f04d59",
   "metadata": {},
   "outputs": [
    {
     "data": {
      "text/plain": [
       "count    50000.000000\n",
       "mean      1309.431020\n",
       "std        989.728014\n",
       "min         32.000000\n",
       "25%        699.000000\n",
       "50%        970.000000\n",
       "75%       1590.250000\n",
       "max      13704.000000\n",
       "Name: review_length, dtype: float64"
      ]
     },
     "execution_count": 9,
     "metadata": {},
     "output_type": "execute_result"
    }
   ],
   "source": [
    "df['review_length'].describe()"
   ]
  },
  {
   "cell_type": "code",
   "execution_count": 10,
   "id": "c89b6ce7",
   "metadata": {},
   "outputs": [
    {
     "name": "stderr",
     "output_type": "stream",
     "text": [
      "[nltk_data] Error loading stopwords: <urlopen error [Errno 11001]\n",
      "[nltk_data]     getaddrinfo failed>\n",
      "[nltk_data] Error loading punkt: <urlopen error [Errno 11001]\n",
      "[nltk_data]     getaddrinfo failed>\n"
     ]
    }
   ],
   "source": [
    "# Download stopwords if not already downloaded\n",
    "nltk.download('stopwords')\n",
    "nltk.download('punkt')\n",
    "\n",
    "stop_words = set(stopwords.words('english'))\n",
    "\n",
    "def clean_text(text):\n",
    "    # Remove punctuation and lowercase the text\n",
    "    text = re.sub(r'[^\\w\\s]', '', text.lower())\n",
    "    # Tokenize and remove stopwords\n",
    "    tokens = word_tokenize(text)\n",
    "    tokens = [word for word in tokens if word not in stop_words]\n",
    "    return ' '.join(tokens)\n",
    "\n",
    "df['cleaned_review'] = df['review'].apply(clean_text)"
   ]
  },
  {
   "cell_type": "code",
   "execution_count": 11,
   "id": "4043f279",
   "metadata": {},
   "outputs": [],
   "source": [
    "sentences = [review.split() for review in df['cleaned_review']]"
   ]
  },
  {
   "cell_type": "markdown",
   "id": "661d2eed",
   "metadata": {},
   "source": [
    "### Skipgram and CBoW model"
   ]
  },
  {
   "cell_type": "code",
   "execution_count": 12,
   "id": "b9084ed0",
   "metadata": {},
   "outputs": [],
   "source": [
    "# Train a Skipgram model\n",
    "skipgram = Word2Vec(\n",
    "    sentences, \n",
    "    sg=1,\n",
    "    vector_size=50,\n",
    "    window=5,\n",
    "    min_count=1,\n",
    ")\n",
    "\n",
    "# Train a CBOW model\n",
    "cbow = Word2Vec(\n",
    "    sentences, \n",
    "    sg=0,\n",
    "    vector_size=50,\n",
    "    window=5,\n",
    "    min_count=1,\n",
    ")"
   ]
  },
  {
   "cell_type": "code",
   "execution_count": 13,
   "id": "3c83a778",
   "metadata": {},
   "outputs": [],
   "source": [
    "def get_average_vector(sentence, model):\n",
    "    words = sentence.split()\n",
    "    vectors = [model.wv[word] for word in words if word in model.wv]\n",
    "    if len(vectors) == 0:\n",
    "        return np.zeros(model.vector_size)\n",
    "    return np.mean(vectors, axis=0)\n",
    "\n",
    "df['skipgram_vector'] = df['cleaned_review'].apply(lambda x: get_average_vector(x, skipgram))\n",
    "df['cbow_vector'] = df['cleaned_review'].apply(lambda x: get_average_vector(x, cbow))"
   ]
  },
  {
   "cell_type": "code",
   "execution_count": 14,
   "id": "74f91b4e",
   "metadata": {},
   "outputs": [
    {
     "name": "stdout",
     "output_type": "stream",
     "text": [
      "Skip-gram Model:\n",
      "              precision    recall  f1-score   support\n",
      "\n",
      "           0       0.87      0.86      0.86      4961\n",
      "           1       0.87      0.87      0.87      5039\n",
      "\n",
      "    accuracy                           0.87     10000\n",
      "   macro avg       0.87      0.87      0.87     10000\n",
      "weighted avg       0.87      0.87      0.87     10000\n",
      "\n",
      "CBoW Model:\n",
      "              precision    recall  f1-score   support\n",
      "\n",
      "           0       0.85      0.84      0.85      4961\n",
      "           1       0.84      0.86      0.85      5039\n",
      "\n",
      "    accuracy                           0.85     10000\n",
      "   macro avg       0.85      0.85      0.85     10000\n",
      "weighted avg       0.85      0.85      0.85     10000\n",
      "\n"
     ]
    }
   ],
   "source": [
    "skipgram_X = np.array(df['skipgram_vector'].tolist())\n",
    "cbow_X = np.array(df['cbow_vector'].tolist())\n",
    "\n",
    "# Prepare labels (convert sentiment to binary)\n",
    "y = df['sentiment'].apply(lambda x: 1 if x == 'positive' else 0)\n",
    "\n",
    "skipgram_X_train, skipgram_X_test, y_train, y_test = train_test_split(skipgram_X, y, test_size=0.2, random_state=42)\n",
    "cbow_X_train, cbow_X_test, _, _ = train_test_split(cbow_X, y, test_size=0.2, random_state=42)\n",
    "\n",
    "def train_and_evaluate_model(X_train, X_test, y_train, y_test):\n",
    "    clf = LogisticRegression(max_iter=1000)\n",
    "    clf.fit(X_train, y_train)\n",
    "    y_pred = clf.predict(X_test)\n",
    "    return classification_report(y_test, y_pred)\n",
    "\n",
    "print(\"Skip-gram Model:\")\n",
    "print(train_and_evaluate_model(skipgram_X_train, skipgram_X_test, y_train, y_test))\n",
    "\n",
    "print(\"CBoW Model:\")\n",
    "print(train_and_evaluate_model(cbow_X_train, cbow_X_test, y_train, y_test))"
   ]
  },
  {
   "cell_type": "markdown",
   "id": "4a7cc18b",
   "metadata": {},
   "source": [
    "### Pre-trained Words2Vec Model"
   ]
  },
  {
   "cell_type": "code",
   "execution_count": 15,
   "id": "77156dbe",
   "metadata": {},
   "outputs": [],
   "source": [
    "def get_average_vector(sentence, model):\n",
    "    words = sentence.split()\n",
    "    vectors = [model[word] for word in words if word in model]\n",
    "    if len(vectors) == 0:\n",
    "        return np.zeros(model.vector_size)\n",
    "    return np.mean(vectors, axis=0)\n",
    "\n",
    "df['pretrained_vector'] = df['cleaned_review'].apply(lambda x: get_average_vector(x, model))"
   ]
  },
  {
   "cell_type": "code",
   "execution_count": 16,
   "id": "e6f0695c",
   "metadata": {},
   "outputs": [
    {
     "name": "stdout",
     "output_type": "stream",
     "text": [
      "Pretrained Word2Vec Model:\n",
      "              precision    recall  f1-score   support\n",
      "\n",
      "           0       0.85      0.85      0.85      4961\n",
      "           1       0.85      0.85      0.85      5039\n",
      "\n",
      "    accuracy                           0.85     10000\n",
      "   macro avg       0.85      0.85      0.85     10000\n",
      "weighted avg       0.85      0.85      0.85     10000\n",
      "\n"
     ]
    }
   ],
   "source": [
    "pretrained_X = np.array(df['pretrained_vector'].tolist())\n",
    "y = df['sentiment'].apply(lambda x: 1 if x == 'positive' else 0)\n",
    "\n",
    "pretrained_X_train, pretrained_X_test, y_train, y_test = train_test_split(pretrained_X, y, test_size=0.2, random_state=42)\n",
    "\n",
    "def train_and_evaluate_model(X_train, X_test, y_train, y_test):\n",
    "    clf = LogisticRegression(max_iter=1000)\n",
    "    clf.fit(X_train, y_train)\n",
    "    y_pred = clf.predict(X_test)\n",
    "    return classification_report(y_test, y_pred)\n",
    "\n",
    "print(\"Pretrained Word2Vec Model:\")\n",
    "print(train_and_evaluate_model(pretrained_X_train, pretrained_X_test, y_train, y_test))"
   ]
  },
  {
   "cell_type": "code",
   "execution_count": null,
   "id": "5d4c3b61",
   "metadata": {},
   "outputs": [],
   "source": []
  },
  {
   "cell_type": "code",
   "execution_count": null,
   "id": "8109be3e",
   "metadata": {},
   "outputs": [],
   "source": []
  }
 ],
 "metadata": {
  "kernelspec": {
   "display_name": "Python 3 (ipykernel)",
   "language": "python",
   "name": "python3"
  },
  "language_info": {
   "codemirror_mode": {
    "name": "ipython",
    "version": 3
   },
   "file_extension": ".py",
   "mimetype": "text/x-python",
   "name": "python",
   "nbconvert_exporter": "python",
   "pygments_lexer": "ipython3",
   "version": "3.9.13"
  }
 },
 "nbformat": 4,
 "nbformat_minor": 5
}
